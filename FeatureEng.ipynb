{
 "cells": [
  {
   "cell_type": "markdown",
   "id": "55848e2c",
   "metadata": {},
   "source": [
    "# Feature Engineering\n"
   ]
  },
  {
   "cell_type": "markdown",
   "id": "605befbd",
   "metadata": {},
   "source": [
    "Three Steps \n",
    "+ Feature Stransformation (Transform the original feature)\n",
    "+ Feature Selection (Selecting The most usefull feature to train on)\n",
    "+ Feature Extraction (Combining existing feature to produce more useful ones)"
   ]
  },
  {
   "cell_type": "markdown",
   "id": "252115f7",
   "metadata": {},
   "source": [
    "# Feature Transformation \n",
    "+ With catagorical data \n",
    "  + One hot encoding\n",
    "  + Label Encoding\n",
    "+ Date time Transformation \n",
    "+ Feature Selection \n",
    "+ Feature Extraction using principle component\n"
   ]
  }
 ],
 "metadata": {
  "language_info": {
   "name": "python"
  }
 },
 "nbformat": 4,
 "nbformat_minor": 5
}
