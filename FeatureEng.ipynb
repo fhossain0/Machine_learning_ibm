{
 "cells": [
  {
   "cell_type": "markdown",
   "id": "55848e2c",
   "metadata": {},
   "source": [
    "# Feature Engineering\n"
   ]
  },
  {
   "cell_type": "markdown",
   "id": "605befbd",
   "metadata": {},
   "source": [
    "Three Steps \n",
    "+ Feature Stransformation (Transform the original feature)\n",
    "+ Feature Selection (Selecting The most usefull feature to train on)\n",
    "+ Feature Extraction (Combining existing feature to produce more useful ones)"
   ]
  },
  {
   "cell_type": "markdown",
   "id": "252115f7",
   "metadata": {},
   "source": [
    "# Feature Transformation \n",
    "+ With catagorical data \n",
    "  + One hot encoding\n",
    "  + Label Encoding\n",
    "+ Date time Transformation \n",
    "+ Feature Selection \n",
    "+ Feature Extraction using principle component\n"
   ]
  },
  {
   "cell_type": "code",
   "execution_count": 10,
   "id": "dc83d38f",
   "metadata": {},
   "outputs": [],
   "source": [
    "import pandas as pd\n",
    "import numpy as np\n",
    "import seaborn as sns\n",
    "import matplotlib as plt\n",
    "import plotly.express as px # visualize the data \n",
    "import sklearn as sk\n",
    "from sklearn.preprocessing import StandardScaler\n",
    "from sklearn.decomposition import PCA\n",
    "\n"
   ]
  },
  {
   "cell_type": "markdown",
   "id": "a6d600dc",
   "metadata": {},
   "source": [
    "#### For this lab we will be using airline_data the data set contains the prices of the tickets for various airline between the months of the march and june of 2019 and between various cities. this dataset is often used for prediction analysis of the flight prices which are influenced by by prevoius factors, such as name of the airline, date of the journey\n",
    "\n"
   ]
  },
  {
   "cell_type": "code",
   "execution_count": 7,
   "id": "d9457d9c",
   "metadata": {},
   "outputs": [],
   "source": [
    "# Path initialization \n",
    "Path= 'Dataset/airlines_data.xlsx'"
   ]
  },
  {
   "cell_type": "code",
   "execution_count": null,
   "id": "1aab36eb",
   "metadata": {},
   "outputs": [],
   "source": [
    "airlines= pd.read_excel(Path)"
   ]
  },
  {
   "cell_type": "code",
   "execution_count": null,
   "id": "9e3a9120",
   "metadata": {},
   "outputs": [
    {
     "name": "stdout",
     "output_type": "stream",
     "text": [
      "<class 'pandas.core.frame.DataFrame'>\n",
      "RangeIndex: 10683 entries, 0 to 10682\n",
      "Data columns (total 11 columns):\n",
      " #   Column           Non-Null Count  Dtype \n",
      "---  ------           --------------  ----- \n",
      " 0   Airline          10683 non-null  object\n",
      " 1   Date_of_Journey  10683 non-null  object\n",
      " 2   Source           10683 non-null  object\n",
      " 3   Destination      10683 non-null  object\n",
      " 4   Route            10682 non-null  object\n",
      " 5   Dep_Time         10683 non-null  object\n",
      " 6   Arrival_Time     10683 non-null  object\n",
      " 7   Duration         10683 non-null  object\n",
      " 8   Total_Stops      10682 non-null  object\n",
      " 9   Additional_Info  10683 non-null  object\n",
      " 10  Price            10683 non-null  int64 \n",
      "dtypes: int64(1), object(10)\n",
      "memory usage: 918.2+ KB\n"
     ]
    },
    {
     "data": {
      "application/vnd.microsoft.datawrangler.viewer.v0+json": {
       "columns": [
        {
         "name": "index",
         "rawType": "object",
         "type": "string"
        },
        {
         "name": "Price",
         "rawType": "float64",
         "type": "float"
        }
       ],
       "ref": "ae16c5be-8d7a-4d42-8560-7492c6c27d4c",
       "rows": [
        [
         "count",
         "10683.0"
        ],
        [
         "mean",
         "9087.064120565385"
        ],
        [
         "std",
         "4611.35916681709"
        ],
        [
         "min",
         "1759.0"
        ],
        [
         "25%",
         "5277.0"
        ],
        [
         "50%",
         "8372.0"
        ],
        [
         "75%",
         "12373.0"
        ],
        [
         "max",
         "79512.0"
        ]
       ],
       "shape": {
        "columns": 1,
        "rows": 8
       }
      },
      "text/html": [
       "<div>\n",
       "<style scoped>\n",
       "    .dataframe tbody tr th:only-of-type {\n",
       "        vertical-align: middle;\n",
       "    }\n",
       "\n",
       "    .dataframe tbody tr th {\n",
       "        vertical-align: top;\n",
       "    }\n",
       "\n",
       "    .dataframe thead th {\n",
       "        text-align: right;\n",
       "    }\n",
       "</style>\n",
       "<table border=\"1\" class=\"dataframe\">\n",
       "  <thead>\n",
       "    <tr style=\"text-align: right;\">\n",
       "      <th></th>\n",
       "      <th>Price</th>\n",
       "    </tr>\n",
       "  </thead>\n",
       "  <tbody>\n",
       "    <tr>\n",
       "      <th>count</th>\n",
       "      <td>10683.000000</td>\n",
       "    </tr>\n",
       "    <tr>\n",
       "      <th>mean</th>\n",
       "      <td>9087.064121</td>\n",
       "    </tr>\n",
       "    <tr>\n",
       "      <th>std</th>\n",
       "      <td>4611.359167</td>\n",
       "    </tr>\n",
       "    <tr>\n",
       "      <th>min</th>\n",
       "      <td>1759.000000</td>\n",
       "    </tr>\n",
       "    <tr>\n",
       "      <th>25%</th>\n",
       "      <td>5277.000000</td>\n",
       "    </tr>\n",
       "    <tr>\n",
       "      <th>50%</th>\n",
       "      <td>8372.000000</td>\n",
       "    </tr>\n",
       "    <tr>\n",
       "      <th>75%</th>\n",
       "      <td>12373.000000</td>\n",
       "    </tr>\n",
       "    <tr>\n",
       "      <th>max</th>\n",
       "      <td>79512.000000</td>\n",
       "    </tr>\n",
       "  </tbody>\n",
       "</table>\n",
       "</div>"
      ],
      "text/plain": [
       "              Price\n",
       "count  10683.000000\n",
       "mean    9087.064121\n",
       "std     4611.359167\n",
       "min     1759.000000\n",
       "25%     5277.000000\n",
       "50%     8372.000000\n",
       "75%    12373.000000\n",
       "max    79512.000000"
      ]
     },
     "execution_count": 18,
     "metadata": {},
     "output_type": "execute_result"
    }
   ],
   "source": [
    "airlines.info()\n",
    "# Most of the data are categorical dataset here\n"
   ]
  },
  {
   "cell_type": "code",
   "execution_count": null,
   "id": "3485877e",
   "metadata": {},
   "outputs": [
    {
     "data": {
      "application/vnd.microsoft.datawrangler.viewer.v0+json": {
       "columns": [
        {
         "name": "index",
         "rawType": "object",
         "type": "string"
        },
        {
         "name": "Price",
         "rawType": "float64",
         "type": "float"
        }
       ],
       "ref": "34a6e036-b48c-481a-b079-3f4d4a429a72",
       "rows": [
        [
         "count",
         "10683.0"
        ],
        [
         "mean",
         "9087.064120565385"
        ],
        [
         "std",
         "4611.35916681709"
        ],
        [
         "min",
         "1759.0"
        ],
        [
         "25%",
         "5277.0"
        ],
        [
         "50%",
         "8372.0"
        ],
        [
         "75%",
         "12373.0"
        ],
        [
         "max",
         "79512.0"
        ]
       ],
       "shape": {
        "columns": 1,
        "rows": 8
       }
      },
      "text/html": [
       "<div>\n",
       "<style scoped>\n",
       "    .dataframe tbody tr th:only-of-type {\n",
       "        vertical-align: middle;\n",
       "    }\n",
       "\n",
       "    .dataframe tbody tr th {\n",
       "        vertical-align: top;\n",
       "    }\n",
       "\n",
       "    .dataframe thead th {\n",
       "        text-align: right;\n",
       "    }\n",
       "</style>\n",
       "<table border=\"1\" class=\"dataframe\">\n",
       "  <thead>\n",
       "    <tr style=\"text-align: right;\">\n",
       "      <th></th>\n",
       "      <th>Price</th>\n",
       "    </tr>\n",
       "  </thead>\n",
       "  <tbody>\n",
       "    <tr>\n",
       "      <th>count</th>\n",
       "      <td>10683.000000</td>\n",
       "    </tr>\n",
       "    <tr>\n",
       "      <th>mean</th>\n",
       "      <td>9087.064121</td>\n",
       "    </tr>\n",
       "    <tr>\n",
       "      <th>std</th>\n",
       "      <td>4611.359167</td>\n",
       "    </tr>\n",
       "    <tr>\n",
       "      <th>min</th>\n",
       "      <td>1759.000000</td>\n",
       "    </tr>\n",
       "    <tr>\n",
       "      <th>25%</th>\n",
       "      <td>5277.000000</td>\n",
       "    </tr>\n",
       "    <tr>\n",
       "      <th>50%</th>\n",
       "      <td>8372.000000</td>\n",
       "    </tr>\n",
       "    <tr>\n",
       "      <th>75%</th>\n",
       "      <td>12373.000000</td>\n",
       "    </tr>\n",
       "    <tr>\n",
       "      <th>max</th>\n",
       "      <td>79512.000000</td>\n",
       "    </tr>\n",
       "  </tbody>\n",
       "</table>\n",
       "</div>"
      ],
      "text/plain": [
       "              Price\n",
       "count  10683.000000\n",
       "mean    9087.064121\n",
       "std     4611.359167\n",
       "min     1759.000000\n",
       "25%     5277.000000\n",
       "50%     8372.000000\n",
       "75%    12373.000000\n",
       "max    79512.000000"
      ]
     },
     "execution_count": 20,
     "metadata": {},
     "output_type": "execute_result"
    }
   ],
   "source": [
    "airlines.describe() \n",
    "#only price variable just shown statistical dataset in this file"
   ]
  },
  {
   "cell_type": "code",
   "execution_count": 25,
   "id": "854a2398",
   "metadata": {},
   "outputs": [
    {
     "name": "stderr",
     "output_type": "stream",
     "text": [
      "/var/folders/kx/t7xsn3md0wxf_6_gg_5dqyrm0000gn/T/ipykernel_26827/3102772671.py:3: FutureWarning:\n",
      "\n",
      "DataFrame.fillna with 'method' is deprecated and will raise in a future version. Use obj.ffill() or obj.bfill() instead.\n",
      "\n"
     ]
    },
    {
     "data": {
      "application/vnd.microsoft.datawrangler.viewer.v0+json": {
       "columns": [
        {
         "name": "index",
         "rawType": "object",
         "type": "string"
        },
        {
         "name": "0",
         "rawType": "int64",
         "type": "integer"
        }
       ],
       "ref": "3227edac-cbe4-4b69-8c2a-4a345d5639bb",
       "rows": [
        [
         "Airline",
         "0"
        ],
        [
         "Date_of_Journey",
         "0"
        ],
        [
         "Source",
         "0"
        ],
        [
         "Destination",
         "0"
        ],
        [
         "Route",
         "0"
        ],
        [
         "Dep_Time",
         "0"
        ],
        [
         "Arrival_Time",
         "0"
        ],
        [
         "Duration",
         "0"
        ],
        [
         "Total_Stops",
         "0"
        ],
        [
         "Additional_Info",
         "0"
        ],
        [
         "Price",
         "0"
        ]
       ],
       "shape": {
        "columns": 1,
        "rows": 11
       }
      },
      "text/plain": [
       "Airline            0\n",
       "Date_of_Journey    0\n",
       "Source             0\n",
       "Destination        0\n",
       "Route              0\n",
       "Dep_Time           0\n",
       "Arrival_Time       0\n",
       "Duration           0\n",
       "Total_Stops        0\n",
       "Additional_Info    0\n",
       "Price              0\n",
       "dtype: int64"
      ]
     },
     "execution_count": 25,
     "metadata": {},
     "output_type": "execute_result"
    }
   ],
   "source": [
    "# null values \n",
    "airlines.isnull().sum()\n",
    "airlines.fillna(method= 'ffill', inplace= True) # Fill NA/NaN values by propagating the last valid observation to next valid.\n",
    "airlines.isnull().sum()"
   ]
  },
  {
   "cell_type": "markdown",
   "id": "56d6344f",
   "metadata": {},
   "source": [
    "Feature Transformation: Besically transforming out feature to the function of the original feature. \n",
    "+ encoding, scaling, discretization(The process of transforming continuous variable into discrete form, by creating bins or intervals)\n",
    "\n",
    "\n",
    "Dealing with categorical Variables \n",
    "Categorical variables represent qualitative data with no apparent inherent mathematical means. there, for any machine learning analysis, all the categorical data must be transformed into the numerical datatypes. "
   ]
  },
  {
   "cell_type": "code",
   "execution_count": 128,
   "id": "cc32ef66",
   "metadata": {},
   "outputs": [
    {
     "data": {
      "text/plain": [
       "array(['IndiGo', 'Air India', 'Jet Airways', 'SpiceJet',\n",
       "       'Multiple carriers', 'GoAir', 'Vistara', 'Air Asia',\n",
       "       'Jet Airways Business', 'Multiple carriers Premium economy',\n",
       "       'Trujet'], dtype=object)"
      ]
     },
     "execution_count": 128,
     "metadata": {},
     "output_type": "execute_result"
    }
   ],
   "source": [
    "# the dataset Airlines have airlines column so we change the name \n",
    "dataset= airlines\n",
    "dataset['Airline'].unique()\n",
    "\n",
    "\n",
    "#dataset.sample(n=5, replace= True)"
   ]
  },
  {
   "cell_type": "code",
   "execution_count": 134,
   "id": "b4e2c09c",
   "metadata": {},
   "outputs": [
    {
     "data": {
      "text/plain": [
       "array(['IndiGo', 'Air India', 'Jet Airways', 'SpiceJet',\n",
       "       'Multiple carriers', 'GoAir', 'Vistara', 'Air Asia',\n",
       "       'Multiple carriers Premium economy', 'Trujet'], dtype=object)"
      ]
     },
     "execution_count": 134,
     "metadata": {},
     "output_type": "execute_result"
    }
   ],
   "source": [
    "\n",
    "listed =dataset['Airline'].unique().tolist()\n",
    "listed\n",
    "dataset['Airline']\n",
    "#dataset['Airline']= np.where(dataset['Airline']== 'Vistara Premium economy', 'Vistara', dataset['Airline'])\n",
    "\n",
    "dataset['Airline']= np.where(dataset['Airline']== 'Jet Airways Business', 'Jet Airways', dataset['Airline'])\n",
    "dataset['Airline'].unique()\n",
    "\n",
    "\n"
   ]
  },
  {
   "cell_type": "code",
   "execution_count": null,
   "id": "ce305d4e",
   "metadata": {},
   "outputs": [],
   "source": []
  },
  {
   "cell_type": "code",
   "execution_count": null,
   "id": "373390c2",
   "metadata": {},
   "outputs": [],
   "source": []
  },
  {
   "cell_type": "code",
   "execution_count": null,
   "id": "14f675fa",
   "metadata": {},
   "outputs": [],
   "source": []
  }
 ],
 "metadata": {
  "kernelspec": {
   "display_name": "dl-env",
   "language": "python",
   "name": "python3"
  },
  "language_info": {
   "codemirror_mode": {
    "name": "ipython",
    "version": 3
   },
   "file_extension": ".py",
   "mimetype": "text/x-python",
   "name": "python",
   "nbconvert_exporter": "python",
   "pygments_lexer": "ipython3",
   "version": "3.10.9"
  }
 },
 "nbformat": 4,
 "nbformat_minor": 5
}
